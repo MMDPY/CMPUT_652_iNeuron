{
  "nbformat": 4,
  "nbformat_minor": 0,
  "metadata": {
    "colab": {
      "name": "ML_and_the_brain_project.ipynb",
      "provenance": [],
      "collapsed_sections": []
    },
    "kernelspec": {
      "name": "python3",
      "display_name": "Python 3"
    },
    "language_info": {
      "name": "python"
    }
  },
  "cells": [
    {
      "cell_type": "code",
      "metadata": {
        "id": "T4ExRFyCdAij",
        "colab": {
          "base_uri": "https://localhost:8080/"
        },
        "outputId": "e942526c-4d4e-463e-f08b-25f30d84fdf3"
      },
      "source": [
        "from google.colab import drive\n",
        "drive.mount('/content/drive')"
      ],
      "execution_count": null,
      "outputs": [
        {
          "output_type": "stream",
          "name": "stdout",
          "text": [
            "Mounted at /content/drive\n"
          ]
        }
      ]
    },
    {
      "cell_type": "code",
      "metadata": {
        "id": "YQCMBwLR52i5"
      },
      "source": [
        "import scipy.io\n",
        "A0003 = scipy.io.loadmat('/content/drive/MyDrive/data/parse_maps.mat')\n"
      ],
      "execution_count": null,
      "outputs": []
    },
    {
      "cell_type": "code",
      "metadata": {
        "id": "kW4C7IaujK9j"
      },
      "source": [
        ""
      ],
      "execution_count": null,
      "outputs": []
    },
    {
      "cell_type": "code",
      "metadata": {
        "id": "Iaom_HWijDuD"
      },
      "source": [
        "import h5py\n",
        "with h5py.File('/content/drive/MyDrive/data/parse_maps.mat', 'r') as f:\n",
        "    f.keys()"
      ],
      "execution_count": null,
      "outputs": []
    },
    {
      "cell_type": "code",
      "metadata": {
        "id": "TdWYaErZeOdE"
      },
      "source": [
        "#!pip install mat73\n",
        "import mat73\n",
        "A0008 = mat73.loadmat('/content/drive/MyDrive/data/A0005_ASL_NR_epoch_parsed.mat')\n",
        "#parse_maps = mat73.loadmat('/content/drive/MyDrive/data/parse_maps.mat')"
      ],
      "execution_count": null,
      "outputs": []
    },
    {
      "cell_type": "code",
      "metadata": {
        "id": "-3WO003Fn8l9"
      },
      "source": [
        "import numpy as np, h5py \n",
        "A0008 = h5py.File('/content/drive/MyDrive/data/A0005_ASL_NR_epoch_parsed.mat','r') \n",
        "#f.keys()\n"
      ],
      "execution_count": null,
      "outputs": []
    },
    {
      "cell_type": "code",
      "metadata": {
        "colab": {
          "base_uri": "https://localhost:8080/"
        },
        "id": "BCGCKda6oUg7",
        "outputId": "2ef0efa9-d6ed-4c66-d3fe-4edeba825ce4"
      },
      "source": [
        "A0008.keys()"
      ],
      "execution_count": null,
      "outputs": [
        {
          "output_type": "execute_result",
          "data": {
            "text/plain": [
              "<KeysViewHDF5 ['data', 'labels', 'task', 'time']>"
            ]
          },
          "metadata": {},
          "execution_count": 9
        }
      ]
    },
    {
      "cell_type": "code",
      "metadata": {
        "colab": {
          "base_uri": "https://localhost:8080/"
        },
        "id": "jWs362dVgWbi",
        "outputId": "96ecb2ea-3d26-41b1-b011-32d762244eed"
      },
      "source": [
        "parse_maps"
      ],
      "execution_count": null,
      "outputs": [
        {
          "output_type": "execute_result",
          "data": {
            "text/plain": [
              "{'label_map': None, 'task_map': None}"
            ]
          },
          "metadata": {},
          "execution_count": 112
        }
      ]
    },
    {
      "cell_type": "code",
      "metadata": {
        "colab": {
          "base_uri": "https://localhost:8080/"
        },
        "id": "iJ-Jx7TaGMhK",
        "outputId": "02ac7ca5-fb51-44a0-c101-be2a172108a9"
      },
      "source": [
        "len(A0003['data'][0][0])"
      ],
      "execution_count": null,
      "outputs": [
        {
          "output_type": "execute_result",
          "data": {
            "text/plain": [
              "900"
            ]
          },
          "metadata": {},
          "execution_count": 11
        }
      ]
    },
    {
      "cell_type": "code",
      "metadata": {
        "colab": {
          "base_uri": "https://localhost:8080/"
        },
        "id": "ntOzI2IrE7sL",
        "outputId": "00ad1883-2c55-4bb5-c3c1-2d88293fa0bb"
      },
      "source": [
        "A0003.keys()"
      ],
      "execution_count": null,
      "outputs": [
        {
          "output_type": "execute_result",
          "data": {
            "text/plain": [
              "dict_keys(['__header__', '__version__', '__globals__', 'ans', 'data', 'labels', 's', 'subject', 'subjectlist', 'task', 'time'])"
            ]
          },
          "metadata": {},
          "execution_count": 12
        }
      ]
    },
    {
      "cell_type": "code",
      "metadata": {
        "colab": {
          "base_uri": "https://localhost:8080/"
        },
        "id": "dB63o_vQdWfZ",
        "outputId": "641dcf95-676a-4f0d-debd-0c016a6e7883"
      },
      "source": [
        "import numpy as np\n",
        "#print(len(A0003['labels'][0]))\n",
        "#A0003['labels'][0]\n",
        "print(f\"number of unique tasks is {np.unique(A0003['task'])}\")\n",
        "print(f\"number of unique labels is {np.unique(A0003['labels'])}\")\n",
        "print(f\"number of trials {len(A0003['data'])}\")\n",
        "print(f\"number of length of each trial first dimentions {len(A0003['data'][0])}\")\n",
        "print(f\"number of length of each trial second dimentions  {len(A0003['data'][0][0])}\")\n",
        "print(f\"time length {len(A0003['time'][0])}\")\n",
        "print(f\"data dimentions are {len(A0003['data']), len(A0003['data'][0]), len(A0003['data'][0][1])}\")\n",
        "print(f\"subjectlist are  {np.unique(A0003['subjectlist'][0])} that represent the subject of interest\")\n",
        "print(f\"time length {len(A0003['time'][0])}\")\n",
        "print(f\"label dimentions are {len(A0003['labels']), len(A0003['labels'][0])} which {np.unique(A0003['labels'][0])} amount of them are unique\")\n",
        "print(f\"number of unique tasks are {np.unique(A0003['task'])} that has the lenght of {len(A0003['task'][0])}\")"
      ],
      "execution_count": null,
      "outputs": [
        {
          "output_type": "stream",
          "name": "stdout",
          "text": [
            "number of unique tasks is [1 2 3 4 5]\n",
            "number of unique labels is [ 0  1  2  3  4  5  6  7  8  9 10]\n",
            "number of trials 499\n",
            "number of length of each trial first dimentions 256\n",
            "number of length of each trial second dimentions  900\n",
            "time length 900\n",
            "data dimentions are (499, 256, 900)\n",
            "subjectlist are  [array(['A0003'], dtype='<U5') array(['A0005'], dtype='<U5')\n",
            " array(['A0007'], dtype='<U5') array(['A0008'], dtype='<U5')\n",
            " array(['A0014'], dtype='<U5') array(['A0051'], dtype='<U5')\n",
            " array(['A0054'], dtype='<U5') array(['A0056'], dtype='<U5')\n",
            " array(['A0057'], dtype='<U5') array(['A0068'], dtype='<U5')\n",
            " array(['A0072'], dtype='<U5') array(['A0078'], dtype='<U5')\n",
            " array(['A0085'], dtype='<U5') array(['A0091'], dtype='<U5')\n",
            " array(['A0094'], dtype='<U5') array(['A0097'], dtype='<U5')\n",
            " array(['A0098'], dtype='<U5') array(['A0099'], dtype='<U5')\n",
            " array(['A0100'], dtype='<U5') array(['A0101'], dtype='<U5')] that represent the subject of interest\n",
            "time length 900\n",
            "label dimentions are (2, 499) which [ 1  2  3  4  5  6  7  8  9 10] amount of them are unique\n",
            "number of unique tasks are [1 2 3 4 5] that has the lenght of 499\n"
          ]
        }
      ]
    },
    {
      "cell_type": "code",
      "metadata": {
        "id": "qPDAz7M_kzrC"
      },
      "source": [
        "# A0003['data'][0][1]\n",
        "# np.unique(A0003['labels'][1])\n",
        "# np.bincount(A0003['labels'][1])"
      ],
      "execution_count": null,
      "outputs": []
    },
    {
      "cell_type": "code",
      "metadata": {
        "id": "9fwc_gXlaFDo"
      },
      "source": [
        "C = []\n",
        "for i, j in zip(A0003['labels'][0], A0003['labels'][1]):\n",
        "  C.append((i, j))"
      ],
      "execution_count": null,
      "outputs": []
    },
    {
      "cell_type": "code",
      "metadata": {
        "id": "qqT2V1TLcQ20"
      },
      "source": [
        "D = []\n",
        "for i, j in zip(C, A0003['task'][0]):\n",
        "  D.append((j, i))\n"
      ],
      "execution_count": null,
      "outputs": []
    },
    {
      "cell_type": "code",
      "metadata": {
        "id": "7EXXeeJ-hUmq"
      },
      "source": [
        "# D = set(D)\n",
        "# D\n",
        "\n",
        "task_dict = {}\n",
        "label_dict = {10:'bag', 9:'bell', 8:'cane', 7:'lamp', 6:'plane', 1:'black', 2:'brown', 3:'green', 4:'red', 5:'white'}"
      ],
      "execution_count": null,
      "outputs": []
    },
    {
      "cell_type": "code",
      "metadata": {
        "id": "b7JjCKeMTYmM"
      },
      "source": [
        "D"
      ],
      "execution_count": null,
      "outputs": []
    },
    {
      "cell_type": "code",
      "metadata": {
        "id": "DhmVLuxEbG3C"
      },
      "source": [
        "D_dict = {}\n",
        "for i in D:\n",
        "  if i not in D_dict.keys():\n",
        "    D_dict[i] = 1\n",
        "  else:\n",
        "    D_dict[i] +=1"
      ],
      "execution_count": null,
      "outputs": []
    },
    {
      "cell_type": "code",
      "metadata": {
        "id": "kGNxPMdqb_19"
      },
      "source": [
        "# 5 is the task index for noun\n",
        "# 4 is the task index for adj\n",
        "# 2, 3 are for adj noun\n",
        "D_dict"
      ],
      "execution_count": null,
      "outputs": []
    },
    {
      "cell_type": "code",
      "metadata": {
        "id": "l35mBxSjZMDO"
      },
      "source": [
        "label_index_10 = []\n",
        "A0003['labels'][0]\n",
        "for i in range(len(A0003['labels'][0])):\n",
        "  if A0003['labels'][0][i] == 1 and A0003['labels'][1][i] == 0:\n",
        "    label_index_10.append(i)\n",
        "# label_index_10 = np.array(label_index_10)"
      ],
      "execution_count": null,
      "outputs": []
    },
    {
      "cell_type": "code",
      "metadata": {
        "id": "EIPgaF-8cdUE"
      },
      "source": [
        "from random import shuffle\n",
        "shuffle(label_index_10)"
      ],
      "execution_count": null,
      "outputs": []
    },
    {
      "cell_type": "code",
      "metadata": {
        "id": "MTdsDyONdmek"
      },
      "source": [
        "label_index_10"
      ],
      "execution_count": null,
      "outputs": []
    },
    {
      "cell_type": "code",
      "metadata": {
        "id": "H2GVv8klc4g7"
      },
      "source": [
        "label_index_10_subset = [[56, 311, 159, 67], [463, 70, 469, 59], [151, 152, 160, 308], [150, 321, 154, 455], [467, 54, 312, 302]]"
      ],
      "execution_count": null,
      "outputs": []
    },
    {
      "cell_type": "code",
      "metadata": {
        "id": "muoJO3Gjc-tE"
      },
      "source": [
        "label_avg_dict = {1:0, 2:0, 3:0, 4:0, 5:0}\n",
        "cnt = 1\n",
        "for i in label_index_10_subset:\n",
        "  tmp = 0 \n",
        "  for j in i:\n",
        "    tmp += A0003['data'][j]\n",
        "  label_avg_dict[cnt] = tmp/4\n",
        "  cnt += 1\n",
        "  \n",
        "\n",
        "  \n"
      ],
      "execution_count": null,
      "outputs": []
    },
    {
      "cell_type": "code",
      "metadata": {
        "id": "9SzTdEXUhctL"
      },
      "source": [
        "label_avg_dict"
      ],
      "execution_count": null,
      "outputs": []
    },
    {
      "cell_type": "code",
      "metadata": {
        "colab": {
          "base_uri": "https://localhost:8080/"
        },
        "id": "qJcVVldsZbBd",
        "outputId": "4d6d3f3f-74a0-4146-8f25-9ea90fae5890"
      },
      "source": [
        "A0003['labels'].shape\n",
        "# A0003['data'].shape"
      ],
      "execution_count": null,
      "outputs": [
        {
          "output_type": "execute_result",
          "data": {
            "text/plain": [
              "(2, 499)"
            ]
          },
          "metadata": {},
          "execution_count": 16
        }
      ]
    },
    {
      "cell_type": "code",
      "metadata": {
        "id": "YeVUqNyQmQ7V"
      },
      "source": [
        "from gensim.models import word2vec\n",
        "corpus = [\n",
        "          'Text of the first document.',\n",
        "          'Text of the second document made longer.',\n",
        "          'Number three.',\n",
        "          'This is number four.',\n",
        "]\n",
        "# we need to pass splitted sentences to the model\n",
        "tokenized_sentences = [sentence.split() for sentence in corpus]\n",
        "model = word2vec.Word2Vec(tokenized_sentences, min_count=1)\n"
      ],
      "execution_count": null,
      "outputs": []
    },
    {
      "cell_type": "code",
      "metadata": {
        "colab": {
          "base_uri": "https://localhost:8080/"
        },
        "id": "BZBXNCX7twD7",
        "outputId": "0bdd6863-7994-4260-f39e-fae9dbd85a9a"
      },
      "source": [
        "!pip install neurokit2"
      ],
      "execution_count": null,
      "outputs": [
        {
          "output_type": "stream",
          "name": "stdout",
          "text": [
            "Collecting neurokit2\n",
            "  Downloading neurokit2-0.1.4.1-py2.py3-none-any.whl (1.0 MB)\n",
            "\u001b[K     |████████████████████████████████| 1.0 MB 442 kB/s \n",
            "\u001b[?25hRequirement already satisfied: pandas in /usr/local/lib/python3.7/dist-packages (from neurokit2) (1.1.5)\n",
            "Requirement already satisfied: matplotlib in /usr/local/lib/python3.7/dist-packages (from neurokit2) (3.2.2)\n",
            "Requirement already satisfied: numpy in /usr/local/lib/python3.7/dist-packages (from neurokit2) (1.19.5)\n",
            "Requirement already satisfied: scipy in /usr/local/lib/python3.7/dist-packages (from neurokit2) (1.4.1)\n",
            "Requirement already satisfied: scikit-learn in /usr/local/lib/python3.7/dist-packages (from neurokit2) (0.22.2.post1)\n",
            "Requirement already satisfied: python-dateutil>=2.1 in /usr/local/lib/python3.7/dist-packages (from matplotlib->neurokit2) (2.8.2)\n",
            "Requirement already satisfied: cycler>=0.10 in /usr/local/lib/python3.7/dist-packages (from matplotlib->neurokit2) (0.10.0)\n",
            "Requirement already satisfied: kiwisolver>=1.0.1 in /usr/local/lib/python3.7/dist-packages (from matplotlib->neurokit2) (1.3.2)\n",
            "Requirement already satisfied: pyparsing!=2.0.4,!=2.1.2,!=2.1.6,>=2.0.1 in /usr/local/lib/python3.7/dist-packages (from matplotlib->neurokit2) (2.4.7)\n",
            "Requirement already satisfied: six in /usr/local/lib/python3.7/dist-packages (from cycler>=0.10->matplotlib->neurokit2) (1.15.0)\n",
            "Requirement already satisfied: pytz>=2017.2 in /usr/local/lib/python3.7/dist-packages (from pandas->neurokit2) (2018.9)\n",
            "Requirement already satisfied: joblib>=0.11 in /usr/local/lib/python3.7/dist-packages (from scikit-learn->neurokit2) (1.0.1)\n",
            "Installing collected packages: neurokit2\n",
            "Successfully installed neurokit2-0.1.4.1\n"
          ]
        }
      ]
    },
    {
      "cell_type": "code",
      "metadata": {
        "id": "cGs_cWnoJBpE"
      },
      "source": [
        "# cite neurokit2 library\n",
        "import neurokit2 as nk \n",
        "def signal_cleaning(signal, method='butterworth', sampling_rate=1000, lowcut=None, highcut=None):\n",
        "  '''\n",
        "  Clean the noise from the signal using neurokit2 library\n",
        "  Input: signal[ could accept[list, np.array, pd.Series]: singal time series\n",
        "  method: noise cancelling method, between options of 'butterworth', ‘fir’ or ‘savgol’ filters\n",
        "  sampling_rate: the recording sampling rate of the signal\n",
        "  lowcut[float]: \"Lower cutoff frequency in Hz. The default is None.\" neurokit2 function description\n",
        "  highcut[float]: \"Upper cutoff frequency in Hz. The default is None.\" neurokit2 function description\n",
        "  output: Cleaned signal \n",
        "  '''\n",
        "\n",
        "  cleaned_signal = nk.signal_filter(signal, sampling_rate=sampling_rate, lowcut=lowcut, highcut=highcut, \n",
        "                                  method=method, order=2, window_size='default', powerline=50)\n",
        "  return cleaned_signal"
      ],
      "execution_count": null,
      "outputs": []
    },
    {
      "cell_type": "code",
      "metadata": {
        "id": "pveK5iFaldwp"
      },
      "source": [
        "# verbatm based on Honari paper\n",
        "# we trained using 100ms windows of time, shifted in increments of 5ms across the full time window"
      ],
      "execution_count": null,
      "outputs": []
    },
    {
      "cell_type": "code",
      "metadata": {
        "colab": {
          "base_uri": "https://localhost:8080/"
        },
        "id": "DYKPcBJsrsbz",
        "outputId": "d5f12136-fc7d-461d-bb29-8bfde257a3d0"
      },
      "source": [
        "MEG = A0003['data'][0]\n",
        "labels = A0003['labels'][0].flatten()\n",
        "\n",
        "print('MEG dimensions:', MEG.shape)\n",
        "print('Label dimensions:', labels.shape)"
      ],
      "execution_count": null,
      "outputs": [
        {
          "output_type": "stream",
          "name": "stdout",
          "text": [
            "MEG dimensions: (256, 900)\n",
            "Label dimensions: (499,)\n"
          ]
        }
      ]
    },
    {
      "cell_type": "code",
      "metadata": {
        "colab": {
          "base_uri": "https://localhost:8080/"
        },
        "id": "PCkGOCGYsNQx",
        "outputId": "120000f9-755d-4e57-e6ae-e08a1da14635"
      },
      "source": [
        "MEG.shape[1]"
      ],
      "execution_count": null,
      "outputs": [
        {
          "output_type": "execute_result",
          "data": {
            "text/plain": [
              "900"
            ]
          },
          "metadata": {},
          "execution_count": 22
        }
      ]
    },
    {
      "cell_type": "code",
      "metadata": {
        "id": "8yevDLzMuJ5C"
      },
      "source": [
        "# 0.1Hz and 40Hz. Honari lowcut and highcut\n",
        "MEG = A0003['data'][2]\n",
        "test = signal_cleaning(MEG, lowcut=0.1, highcut=40)"
      ],
      "execution_count": null,
      "outputs": []
    },
    {
      "cell_type": "code",
      "metadata": {
        "id": "nqiRzyKQxSMW"
      },
      "source": [
        "MEG = A0003['data'][0]\n",
        "test = signal_cleaning(MEG, lowcut=0.1, highcut=40)\n"
      ],
      "execution_count": null,
      "outputs": []
    },
    {
      "cell_type": "code",
      "metadata": {
        "colab": {
          "base_uri": "https://localhost:8080/"
        },
        "id": "Z7CtPMtQxwBt",
        "outputId": "89dc5980-475d-4804-dac2-e47c4f1cf9bf"
      },
      "source": [
        "test[1, :].shape"
      ],
      "execution_count": null,
      "outputs": [
        {
          "output_type": "execute_result",
          "data": {
            "text/plain": [
              "(900,)"
            ]
          },
          "metadata": {},
          "execution_count": 55
        }
      ]
    },
    {
      "cell_type": "code",
      "metadata": {
        "colab": {
          "base_uri": "https://localhost:8080/"
        },
        "id": "pnjO2auYXDTc",
        "outputId": "b7c59ed2-36e4-45a2-bcc0-85ea5f1d0162"
      },
      "source": [
        "A0003['data'].shape"
      ],
      "execution_count": null,
      "outputs": [
        {
          "output_type": "execute_result",
          "data": {
            "text/plain": [
              "(499, 256, 900)"
            ]
          },
          "metadata": {},
          "execution_count": 26
        }
      ]
    },
    {
      "cell_type": "code",
      "metadata": {
        "colab": {
          "base_uri": "https://localhost:8080/"
        },
        "id": "e1iJVBL3XOfi",
        "outputId": "67a74dbc-ca1d-4b61-8610-0529ad134e8b"
      },
      "source": [
        "A0003['labels'][1] "
      ],
      "execution_count": null,
      "outputs": [
        {
          "output_type": "execute_result",
          "data": {
            "text/plain": [
              "array([ 6,  9, 10, 10,  8,  8,  8,  7,  8,  7,  9,  9,  6,  8,  6,  9,  7,\n",
              "        8,  8, 10,  7,  7, 10,  6, 10,  1,  5,  5,  3,  2,  5,  4,  5,  1,\n",
              "        4,  3,  1,  3,  2,  4,  4,  2,  5,  5,  2,  3,  4,  1,  3,  1,  0,\n",
              "        0,  0,  0,  0,  0,  0,  0,  0,  0,  0,  0,  0,  0,  0,  0,  0,  0,\n",
              "        0,  0,  0,  0,  0,  0,  0,  6, 10,  6,  8,  8,  7,  9,  7,  7,  9,\n",
              "        9,  6,  8, 10,  7,  8,  9,  8,  7,  9,  6,  9,  9,  7, 10,  0,  0,\n",
              "        0,  0,  0,  0,  0,  0,  0,  0,  0,  0,  0,  0,  0,  0,  0,  0,  0,\n",
              "        0,  0,  0,  0,  0,  0,  9, 10,  7,  6,  6,  7, 10,  6,  9,  7,  9,\n",
              "        9,  8,  6,  6,  8,  6,  7,  8, 10, 10,  7,  9,  9, 10,  0,  0,  0,\n",
              "        0,  0,  0,  0,  0,  0,  0,  0,  0,  0,  0,  0,  0,  0,  0,  0,  0,\n",
              "        0,  0,  0,  0,  0, 10, 10,  7,  6,  6,  8,  9,  6,  8,  6,  6, 10,\n",
              "        8,  8,  7,  7,  9,  6, 10, 10,  7, 10, 10,  8,  9,  0,  0,  0,  0,\n",
              "        0,  0,  0,  0,  0,  0,  0,  0,  0,  0,  0,  0,  0,  0,  0,  0,  0,\n",
              "        0,  0,  0,  0,  2,  4,  4,  3,  2,  1,  1,  2,  3,  3,  3,  3,  5,\n",
              "        1,  4,  2,  1,  4,  2,  4,  2,  5,  5,  5,  1, 10,  6, 10,  6,  6,\n",
              "        7,  8,  7,  8,  9,  8,  9,  8, 10,  7,  6,  9, 10,  6,  8, 10, 10,\n",
              "        6, 10,  7,  5,  5,  3,  1,  2,  1,  1,  3,  3,  1,  2,  4,  5,  2,\n",
              "        5,  4,  5,  1,  5,  1,  4,  3,  4,  4,  2,  0,  0,  0,  0,  0,  0,\n",
              "        0,  0,  0,  0,  0,  0,  0,  0,  0,  0,  0,  0,  0,  0,  0,  0,  0,\n",
              "        0,  0,  7,  9,  6,  7,  6,  6,  6,  6,  8,  7,  9,  8,  9,  9, 10,\n",
              "       10,  7, 10, 10,  6,  7,  9, 10,  8,  9,  0,  0,  0,  0,  0,  0,  0,\n",
              "        0,  0,  0,  0,  0,  0,  0,  0,  0,  0,  0,  0,  0,  0,  0,  0,  0,\n",
              "        1,  3,  4,  1,  5,  4,  1,  3,  2,  1,  4,  5,  5,  2,  3,  3,  2,\n",
              "        2,  3,  4,  2,  4,  2,  3,  5,  0,  0,  0,  0,  0,  0,  0,  0,  0,\n",
              "        0,  0,  0,  0,  0,  0,  0,  0,  0,  0,  0,  0,  0,  0,  0,  0, 10,\n",
              "        7, 10,  6,  8,  7,  9,  7,  8,  9,  8,  8,  6,  6,  6,  7, 10,  9,\n",
              "        7, 10,  8,  9,  8, 10,  8,  0,  0,  0,  0,  0,  0,  0,  0,  0,  0,\n",
              "        0,  0,  0,  0,  0,  0,  0,  0,  0,  0,  0,  0,  0,  0,  0, 10,  7,\n",
              "        9,  7, 10,  9,  8,  7,  8, 10,  8,  9,  8,  7,  7,  6,  9,  8,  7,\n",
              "        6,  6,  9,  6,  9,  9], dtype=uint8)"
            ]
          },
          "metadata": {},
          "execution_count": 27
        }
      ]
    },
    {
      "cell_type": "code",
      "metadata": {
        "id": "_jMjFq64_Lwo",
        "colab": {
          "base_uri": "https://localhost:8080/",
          "height": 199
        },
        "outputId": "345b57ea-d896-4ff3-81e5-cffb8f76d89f"
      },
      "source": [
        "%pylab inline"
      ],
      "execution_count": null,
      "outputs": [
        {
          "output_type": "stream",
          "name": "stdout",
          "text": [
            "Populating the interactive namespace from numpy and matplotlib\n"
          ]
        },
        {
          "output_type": "error",
          "ename": "TypeError",
          "evalue": "ignored",
          "traceback": [
            "\u001b[0;31m---------------------------------------------------------------------------\u001b[0m",
            "\u001b[0;31mTypeError\u001b[0m                                 Traceback (most recent call last)",
            "\u001b[0;32m<ipython-input-51-68186b73bd71>\u001b[0m in \u001b[0;36m<module>\u001b[0;34m()\u001b[0m\n\u001b[1;32m      1\u001b[0m \u001b[0mget_ipython\u001b[0m\u001b[0;34m(\u001b[0m\u001b[0;34m)\u001b[0m\u001b[0;34m.\u001b[0m\u001b[0mmagic\u001b[0m\u001b[0;34m(\u001b[0m\u001b[0;34m'pylab inline'\u001b[0m\u001b[0;34m)\u001b[0m\u001b[0;34m\u001b[0m\u001b[0;34m\u001b[0m\u001b[0m\n\u001b[0;32m----> 2\u001b[0;31m \u001b[0mtest\u001b[0m\u001b[0;34m[\u001b[0m\u001b[0;36m1\u001b[0m\u001b[0;34m,\u001b[0m \u001b[0;34m:\u001b[0m\u001b[0;34m]\u001b[0m\u001b[0;34m.\u001b[0m\u001b[0mshape\u001b[0m\u001b[0;34m\u001b[0m\u001b[0;34m\u001b[0m\u001b[0m\n\u001b[0m",
            "\u001b[0;31mTypeError\u001b[0m: 'PytestTester' object is not subscriptable"
          ]
        }
      ]
    },
    {
      "cell_type": "code",
      "metadata": {
        "colab": {
          "base_uri": "https://localhost:8080/",
          "height": 222
        },
        "id": "S6HPzQytsQ9g",
        "outputId": "ce52ee93-a9a1-4718-c726-67d931fb794b"
      },
      "source": [
        "# plotting selected channels for one subject  \n",
        "figure(figsize=(15,3))\n",
        "#plot(test.T)\n",
        "for i in range(5):\n",
        "  plot(test[i, :])"
      ],
      "execution_count": null,
      "outputs": [
        {
          "output_type": "display_data",
          "data": {
            "image/png": "[encoded data removed]",
            "text/plain": [
              "<Figure size 1080x216 with 1 Axes>"
            ]
          },
          "metadata": {
            "needs_background": "light"
          }
        }
      ]
    },
    {
      "cell_type": "code",
      "metadata": {
        "id": "7dOZdxXCw5Gh"
      },
      "source": [
        "# good link to window the time series\n",
        "#https://hub.gke2.mybinder.org/user/wmvanvliet-neur-ience_tutorials-8qumyyto/notebooks/eeg-bci/4.%20Classifying%20the%20P300.ipynb\n",
        "\n",
        "# excellent resource for neuroscience data analysis\n",
        "# https://mne.tools/stable/index.html"
      ],
      "execution_count": null,
      "outputs": []
    }
  ]
}